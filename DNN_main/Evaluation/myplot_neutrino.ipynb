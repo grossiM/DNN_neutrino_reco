{
 "cells": [
  {
   "cell_type": "markdown",
   "metadata": {},
   "source": [
    "Create the macro to run on all calibrated data\n",
    "check problem with trans, unpo etc for bat8 data"
   ]
  },
  {
   "cell_type": "markdown",
   "metadata": {},
   "source": [
    "The idea is to create a macro that plot what we want from the h5 fies created with evaluation.\n",
    "Compulsary plot for binary e regression sono gli hist da salvare, mentre per la regression vorrei i plot delle differenze.\n",
    "Per la binary?\n",
    "\n",
    "(la meglio potrebbe essere una classe...)\n",
    "Potrei usare un parser con input:\n",
    "- inl calibrated h5 long file\n",
    "- int callibrated h5 trans file\n",
    "- inu calibrated unpolarized h5 file \n",
    "- o output folder\n",
    "- meth (bool) regression1/binary0\n",
    "- b binning degli istogrammi\n",
    "- sel parsing dei vari modelli per selezionare quello che mi serve (prendo spunto da -P che uso in evaluation)\n",
    "- nev?? \n",
    "- diff (bool) (if meth=1) 1=plot differenze, 0 default\n",
    "- save (bool) saving figure in pdf format"
   ]
  },
  {
   "cell_type": "code",
   "execution_count": 1,
   "metadata": {},
   "outputs": [],
   "source": [
    "import os\n",
    "import sys\n",
    "import configparser\n",
    "\n",
    "import pandas as pd\n",
    "import numpy as np\n",
    "import matplotlib.pyplot as plt"
   ]
  },
  {
   "cell_type": "code",
   "execution_count": 2,
   "metadata": {},
   "outputs": [],
   "source": [
    "#http://www.pererikstrandberg.se/blog/index.cgi?page=PythonPandasFirstLook"
   ]
  },
  {
   "cell_type": "code",
   "execution_count": 3,
   "metadata": {},
   "outputs": [],
   "source": [
    "hdf_long = pd.read_hdf('/Users/it058990/Desktop/MicheleG/PhD/VBS_COST_Group/GITBicocca/DNN_storage/evaluation/unpol_VBS_WWmuvWqq_phantom_1_6_nob_17jan/all/mu_ewk_semilept_long_nob_lhe528104_train.calibrated.h5')"
   ]
  },
  {
   "cell_type": "code",
   "execution_count": 4,
   "metadata": {},
   "outputs": [],
   "source": [
    "hdf_trans = pd.read_hdf('/Users/it058990/Desktop/MicheleG/PhD/VBS_COST_Group/GITBicocca/DNN_storage/evaluation/unpol_VBS_WWmuvWqq_phantom_1_6_nob_17jan/all/mu_ewk_semilept_trans_nob_lhe539538_train.calibrated.h5')"
   ]
  },
  {
   "cell_type": "code",
   "execution_count": 5,
   "metadata": {},
   "outputs": [],
   "source": [
    "hdf_unpol = pd.read_hdf('/Users/it058990/Desktop/MicheleG/PhD/VBS_COST_Group/GITBicocca/DNN_storage/evaluation/unpol_VBS_WWmuvWqq_phantom_1_6_nob_17jan/unpolll/mu_ewk_semilept_unpol_nob_lhe1060439_train.calibrated.h5')"
   ]
  },
  {
   "cell_type": "code",
   "execution_count": 6,
   "metadata": {},
   "outputs": [],
   "source": [
    "hdf_full_comp = pd.read_hdf('/Users/it058990/Desktop/MicheleG/PhD/VBS_COST_Group/GITBicocca/DNN_storage/evaluation/unpol_VBS_WWmuvWqq_phantom_1_6_nob_17jan/unpolll/mu_ewk_semilept_nob_unpol_full_comp_lhe1070472_train.calibrated.h5')"
   ]
  },
  {
   "cell_type": "code",
   "execution_count": 7,
   "metadata": {},
   "outputs": [
    {
     "name": "stdout",
     "output_type": "stream",
     "text": [
      "<class 'pandas.core.frame.DataFrame'>\n",
      "Int64Index: 528104 entries, 0 to 600135\n",
      "Columns: 135 entries, flavour to neu100hid10bat128_e100\n",
      "dtypes: float32(71), float64(61), int32(2), int64(1)\n",
      "memory usage: 400.9 MB\n"
     ]
    }
   ],
   "source": [
    "hdf_long.info()"
   ]
  },
  {
   "cell_type": "code",
   "execution_count": 8,
   "metadata": {},
   "outputs": [
    {
     "data": {
      "text/plain": [
       "Index(['flavour', 'mu_E', 'mu_px', 'mu_py', 'mu_pz', 'sign', 'v_mu_E',\n",
       "       'v_mu_px', 'v_mu_py', 'v_mu_pz',\n",
       "       ...\n",
       "       'neu60hid8bat8_e100', 'neu100hid6bat32_e100', 'neu20hid8bat128_e100',\n",
       "       'neu20hid6bat8_e100', 'neu100hid8bat8_e100', 'neu200hid2bat8_e100',\n",
       "       'neu20hid4bat8_e100', 'neu60hid3bat128_e100', 'neu200hid3bat8_e100',\n",
       "       'neu100hid10bat128_e100'],\n",
       "      dtype='object', length=135)"
      ]
     },
     "execution_count": 8,
     "metadata": {},
     "output_type": "execute_result"
    }
   ],
   "source": [
    "hdf_long.columns"
   ]
  },
  {
   "cell_type": "code",
   "execution_count": 9,
   "metadata": {},
   "outputs": [],
   "source": [
    "#drop_list = ['neu20hid8bat8_e100','neu20hid10bat8_e100','neu60hid10bat8_e100','neu60hid10bat8_e100']"
   ]
  },
  {
   "cell_type": "code",
   "execution_count": 10,
   "metadata": {},
   "outputs": [
    {
     "name": "stdout",
     "output_type": "stream",
     "text": [
      "bat8\n",
      "['neu100hid6bat8_e100', 'neu60hid3bat8_e100', 'neu20hid8bat8_e100', 'neu60hid2bat8_e100', 'neu100hid4bat8_e100', 'neu200hid8bat8_e100', 'neu20hid10bat8_e100', 'neu60hid4bat8_e100', 'neu100hid3bat8_e100', 'neu60hid6bat8_e100', 'neu100hid2bat8_e100', 'neu60hid10bat8_e100', 'neu100hid10bat8_e100', 'neu200hid6bat8_e100', 'neu200hid4bat8_e100', 'neu20hid3bat8_e100', 'neu20hid2bat8_e100', 'neu60hid8bat8_e100', 'neu20hid6bat8_e100', 'neu100hid8bat8_e100', 'neu200hid2bat8_e100', 'neu20hid4bat8_e100', 'neu200hid3bat8_e100']\n",
      "hid10\n",
      "['neu100hid10bat32_e100', 'neu60hid10bat128_e100', 'neu200hid10bat128_e100', 'neu20hid10bat32_e100', 'neu200hid10bat32_e100', 'neu20hid10bat128_e100', 'neu60hid10bat32_e100', 'neu100hid10bat128_e100']\n",
      "20hid8\n",
      "['neu20hid8bat32_e100', 'neu20hid8bat128_e100']\n"
     ]
    }
   ],
   "source": [
    "#to_rm = ['hid10','bat8_']\n",
    "to_rm = ['bat8','hid10','20hid8']\n",
    "\n",
    "import fnmatch\n",
    "for r in range(len(to_rm)):\n",
    "    print(to_rm[r])\n",
    "    bad_mod = fnmatch.filter(hdf_long.columns, '*'+to_rm[r]+'*')\n",
    "    hdf_long = hdf_long.drop(bad_mod,axis=1)\n",
    "    hdf_trans.drop(bad_mod,axis=1)\n",
    "    hdf_unpol.drop(bad_mod,axis=1)\n",
    "    hdf_full_comp.drop(bad_mod,axis=1)\n",
    "    print(bad_mod)"
   ]
  },
  {
   "cell_type": "code",
   "execution_count": 11,
   "metadata": {},
   "outputs": [
    {
     "data": {
      "text/plain": [
       "Index(['mu_pz', 'sign', 'v_mu_E', 'v_mu_px', 'v_mu_py', 'v_mu_pz', 'q_fin_px1',\n",
       "       'q_fin_px2', 'q_fin_px3', 'q_fin_px4', 'q_fin_py1', 'q_fin_py2',\n",
       "       'q_fin_py3', 'q_fin_py4', 'q_fin_pz1', 'q_fin_pz2', 'q_fin_pz3',\n",
       "       'q_fin_pz4', 'q_fin_E1', 'q_fin_E2', 'q_fin_E3', 'q_fin_E4',\n",
       "       'q_init_px1', 'q_init_px2', 'q_init_py1', 'q_init_py2', 'q_init_pz1',\n",
       "       'q_init_pz2', 'q_init_E1', 'q_init_E2', 'mu_a', 'mu_b', 'mu_c',\n",
       "       'mu_delta', 'v_mu_sol0', 'v_mu_sol1', 'v_mu_label', 'v_mu_predict_E0',\n",
       "       'v_mu_predict_E1', 'truth_cos_theta', 'event0_mass', 'event1_mass',\n",
       "       'mu_pt', 'mu_eta', 'mu_phi', 'v_mu_pt', 'v_mu_eta', 'v_mu_phi',\n",
       "       'q_fin1_pt', 'q_fin1_eta', 'q_fin1_phi', 'q_fin2_pt', 'q_fin2_eta',\n",
       "       'q_fin2_phi', 'q_fin3_pt', 'q_fin3_eta', 'q_fin3_phi', 'q_fin4_pt',\n",
       "       'q_fin4_eta', 'q_fin4_phi', 'neu20hid6bat128_e100',\n",
       "       'neu200hid6bat32_e100', 'neu60hid3bat32_e100', 'neu20hid6bat32_e100',\n",
       "       'neu200hid2bat128_e100', 'neu20hid4bat128_e100', 'neu100hid4bat32_e100',\n",
       "       'neu200hid6bat128_e100', 'neu200hid4bat128_e100', 'neu60hid2bat32_e100',\n",
       "       'neu100hid8bat32_e100', 'neu100hid3bat128_e100', 'neu20hid2bat128_e100',\n",
       "       'neu200hid3bat128_e100', 'neu100hid3bat32_e100',\n",
       "       'neu100hid4bat128_e100', 'neu100hid6bat128_e100', 'neu60hid4bat32_e100',\n",
       "       'neu100hid2bat128_e100', 'neu20hid3bat128_e100', 'neu60hid8bat32_e100',\n",
       "       'neu60hid8bat128_e100', 'neu100hid2bat32_e100', 'neu60hid4bat128_e100',\n",
       "       'neu20hid2bat32_e100', 'neu60hid6bat128_e100', 'neu200hid2bat32_e100',\n",
       "       'neu200hid3bat32_e100', 'neu60hid6bat32_e100', 'neu60hid2bat128_e100',\n",
       "       'neu20hid3bat32_e100', 'neu100hid8bat128_e100', 'neu20hid4bat32_e100',\n",
       "       'neu200hid4bat32_e100', 'neu200hid8bat128_e100', 'neu200hid8bat32_e100',\n",
       "       'neu100hid6bat32_e100', 'neu60hid3bat128_e100'],\n",
       "      dtype='object')"
      ]
     },
     "execution_count": 11,
     "metadata": {},
     "output_type": "execute_result"
    }
   ],
   "source": [
    "hdf_long.columns[4:]"
   ]
  },
  {
   "cell_type": "code",
   "execution_count": 12,
   "metadata": {},
   "outputs": [],
   "source": [
    "binning ='\\-1,1,0.03'"
   ]
  },
  {
   "cell_type": "code",
   "execution_count": 13,
   "metadata": {},
   "outputs": [],
   "source": [
    "binning = binning.replace('\\\\', '')\n",
    "bins = binning.split(',')"
   ]
  },
  {
   "cell_type": "code",
   "execution_count": 14,
   "metadata": {},
   "outputs": [],
   "source": [
    "b1,b2,b3 = float(bins[0]), float(bins[1]), float(bins[2])"
   ]
  },
  {
   "cell_type": "code",
   "execution_count": null,
   "metadata": {},
   "outputs": [],
   "source": [
    "#import fnmatch"
   ]
  },
  {
   "cell_type": "code",
   "execution_count": null,
   "metadata": {},
   "outputs": [],
   "source": [
    "#test on LONG\n",
    "#fig_long = plt.figure(1)\n",
    "#plt.legend(loc='upper left', ncol=3, fancybox=True, fontsize='small')\n",
    "#plt.title('Longitudinal polarization')\n",
    "#plt.xlabel('cos'+r'$\\theta$')\n",
    "#plt.ylabel('Number of events')\n",
    "#fig_long.savefig(self.config.get('evaluation', 'output') + '/theta_long.pdf')\n",
    "\n",
    "#h_long_true = plt.hist(hdf_long['truth_cos_theta'],np.arange(b1, b2, b3),alpha = 0.5, edgecolor='black', linewidth=2.1, label='truth')\n"
   ]
  },
  {
   "cell_type": "code",
   "execution_count": 15,
   "metadata": {},
   "outputs": [],
   "source": [
    "#input 4 figures and output\n",
    "## CHECK XK NON VA LABEL!!!\n",
    "def plot_plot(model,avlb_pol):\n",
    "    name = model[:-5]\n",
    "    for pol_type in avlb_pol:\n",
    "        if pol_type == 'long':\n",
    "            plt.figure(1)\n",
    "            plt.legend()\n",
    "            h_long = plt.hist(hdf_long[model].values, np.arange(b1, b2, b3),alpha=0.3, label=name)\n",
    "\n",
    "        elif pol_type == 'trans':\n",
    "            plt.figure(2)\n",
    "            plt.legend()\n",
    "            h_trans = plt.hist(hdf_trans[model].values, np.arange(b1, b2, b3),alpha=0.3, label=name)\n",
    "\n",
    "        elif pol_type == 'unpol':\n",
    "            plt.figure(3)\n",
    "            plt.legend()\n",
    "            h_unpol = plt.hist(hdf_unpol[model].values, np.arange(b1, b2, b3),alpha=0.3, label=name)\n",
    "\n",
    "        elif pol_type == 'fullcomp':\n",
    "            plt.figure(4)\n",
    "            plt.legend()\n",
    "            h_full = plt.hist(hdf_full_comp[model].values, np.arange(b1, b2, b3),alpha=0.3, label=name)\n",
    "\n",
    "        else:\n",
    "            print('wrong polarization')\n",
    "    #np.savez(self.config.get('evaluation', 'output') + '/h_' + model_dir, unpol=h_unpol, trans=h_trans, long=h_long, dlong = d_long, dtrans = d_trans)\n",
    "    np.savez('h_' + model, unpol=h_unpol, trans=h_trans, long=h_long)"
   ]
  },
  {
   "cell_type": "code",
   "execution_count": null,
   "metadata": {},
   "outputs": [],
   "source": [
    "#import itertools\n",
    "#combo = list(itertools.product(*(neu_sel,bat_sel, hid_sel)))\n",
    "#combo"
   ]
  },
  {
   "cell_type": "code",
   "execution_count": 39,
   "metadata": {},
   "outputs": [],
   "source": [
    "neu_sel = 'neu100'\n",
    "bat_sel = 'bat128'\n",
    "hid_sel = ''\n",
    "#'*'+plot_selection[0]+'*'"
   ]
  },
  {
   "cell_type": "code",
   "execution_count": 40,
   "metadata": {},
   "outputs": [
    {
     "data": {
      "text/plain": [
       "['neu100hid3bat128_e100',\n",
       " 'neu100hid4bat128_e100',\n",
       " 'neu100hid6bat128_e100',\n",
       " 'neu100hid2bat128_e100',\n",
       " 'neu100hid8bat128_e100']"
      ]
     },
     "execution_count": 40,
     "metadata": {},
     "output_type": "execute_result"
    }
   ],
   "source": [
    "fnmatch.filter(hdf_long.columns,'*' + neu_sel+'*'+hid_sel+'*'+bat_sel+'*' )"
   ]
  },
  {
   "cell_type": "code",
   "execution_count": 42,
   "metadata": {},
   "outputs": [
    {
     "name": "stderr",
     "output_type": "stream",
     "text": [
      "/Users/it058990/anaconda3/lib/python3.6/site-packages/matplotlib/cbook/deprecation.py:107: MatplotlibDeprecationWarning: Adding an axes using the same arguments as a previous axes currently reuses the earlier instance.  In a future version, a new instance will always be created and returned.  Meanwhile, this warning can be suppressed, and the future behavior ensured, by passing a unique label to each axes instance.\n",
      "  warnings.warn(message, mplDeprecation, stacklevel=1)\n"
     ]
    },
    {
     "name": "stdout",
     "output_type": "stream",
     "text": [
      "['neu100hid3bat128_e100', 'neu100hid4bat128_e100', 'neu100hid6bat128_e100', 'neu100hid2bat128_e100', 'neu100hid8bat128_e100']\n",
      "##############################\n",
      "neu100hid3bat128_e100\n",
      "neu100hid4bat128_e100\n",
      "neu100hid6bat128_e100\n",
      "neu100hid2bat128_e100\n",
      "neu100hid8bat128_e100\n",
      "plotting executed\n"
     ]
    },
    {
     "data": {
      "image/png": "[encoded data removed]",
      "text/plain": [
       "<Figure size 432x288 with 1 Axes>"
      ]
     },
     "metadata": {
      "needs_background": "light"
     },
     "output_type": "display_data"
    },
    {
     "data": {
      "image/png": "[encoded data removed]",
      "text/plain": [
       "<Figure size 432x288 with 1 Axes>"
      ]
     },
     "metadata": {
      "needs_background": "light"
     },
     "output_type": "display_data"
    },
    {
     "data": {
      "image/png": "[encoded data removed]",
      "text/plain": [
       "<Figure size 432x288 with 1 Axes>"
      ]
     },
     "metadata": {
      "needs_background": "light"
     },
     "output_type": "display_data"
    },
    {
     "data": {
      "image/png": "[encoded data removed]",
      "text/plain": [
       "<Figure size 432x288 with 1 Axes>"
      ]
     },
     "metadata": {
      "needs_background": "light"
     },
     "output_type": "display_data"
    }
   ],
   "source": [
    "#here create the figure\n",
    "\n",
    "#######LONGITUDINAL\n",
    "fig_long = plt.figure(1)\n",
    "h_long_true = plt.hist(hdf_long['truth_cos_theta'],np.arange(b1, b2, b3),alpha = 0.5, edgecolor='black', linewidth=2.1, label='truth')\n",
    "\n",
    "plt.figure(1)\n",
    "plt.legend(loc='upper left', ncol=3, fancybox=True, fontsize='small')\n",
    "plt.title('Longitudinal polarization')\n",
    "plt.xlabel('cos'+r'$\\theta$')\n",
    "plt.ylabel('Number of events')\n",
    "#fig_long.savefig(self.config.get('evaluation', 'output') + '/theta_long.pdf')\n",
    "\n",
    "\n",
    "#########transverse\n",
    "fig_trans = plt.figure(2)\n",
    "h_trans_true = plt.hist(hdf_trans['truth_cos_theta'], np.arange(b1,b2,b3), alpha = 0.5, edgecolor='black', linewidth=2.1, label='truth')\n",
    "\n",
    "plt.figure(2)\n",
    "plt.legend(loc='upper left', ncol=3, fancybox=True, fontsize='small')\n",
    "plt.title('Transverse polarization')\n",
    "plt.xlabel('cos'+r'$\\theta$')\n",
    "plt.ylabel('Number of events')\n",
    "#fig_trans.savefig(self.config.get('evaluation', 'output') + '/theta_long.pdf')\n",
    "\n",
    "#######unpolarized\n",
    "fig_unpol = plt.figure(3)\n",
    "h_unpol_true = plt.hist(hdf_unpol['truth_cos_theta'], np.arange(b1,b2,b3), alpha = 0.5, edgecolor='black', linewidth=2.1, label='truth')\n",
    "\n",
    "plt.figure(3)\n",
    "plt.legend(loc='upper left', ncol=3, fancybox=True, fontsize='small')\n",
    "plt.title('Unpolarized polarization')\n",
    "plt.xlabel('cos'+r'$\\theta$')\n",
    "plt.ylabel('Number of events')\n",
    "#fig_unpol.savefig(self.config.get('evaluation', 'output') + '/theta_unpol.pdf')\n",
    "\n",
    "######full computation\n",
    "fig_full = plt.figure(4)\n",
    "h_fullcomp_true = plt.hist(hdf_full_comp['truth_cos_theta'], np.arange(b1,b2,b3), alpha = 0.5, edgecolor='black', linewidth=2.1, label='truth')\n",
    "\n",
    "plt.figure(4)\n",
    "plt.legend(loc='upper left', ncol=3, fancybox=True, fontsize='small')\n",
    "plt.title('Full computation polarization')\n",
    "plt.xlabel('cos'+r'$\\theta$')\n",
    "plt.ylabel('Number of events')\n",
    "#fig_full.savefig(self.config.get('evaluation', 'output') + '/theta_full.pdf')\n",
    "\n",
    "########################   saving all truth things\n",
    "#np.savez(self.config.get('evaluation', 'output') + '/h_truth',unpol=h_unpol_true, trans=h_trans_true, long=h_long_true)\n",
    "\n",
    "\n",
    "##loop throuth model selected\n",
    "\n",
    "#for s in range(len(plot_selection)):\n",
    "        \n",
    "good = fnmatch.filter(hdf_long.columns,'*' + neu_sel+'*'+hid_sel+'*'+bat_sel+'*' )\n",
    "print(good)\n",
    "print('#'*30)\n",
    "for c in good:\n",
    "    print(c)\n",
    "    plot_plot(c,['long','trans','unpol','fullcomp'])\n",
    "    \n",
    "print('plotting executed')\n",
    "#fig_long.savefig('theta_long.pdf')\n",
    "#fig_trans.savefig('trans.pdf')"
   ]
  },
  {
   "cell_type": "code",
   "execution_count": null,
   "metadata": {},
   "outputs": [],
   "source": [
    "#import libraries\n",
    "#!pip install progressbar\n",
    "import progressbar as pb\n",
    "\n",
    "#initialize widgets\n",
    "widgets = ['Time for loop of 1 000 000 iterations: ', pb.Percentage(), ' ', \n",
    "            pb.Bar(marker=pb.RotatingMarker()), ' ', pb.ETA()]\n",
    "#initialize timer\n",
    "timer = pb.ProgressBar(widgets=widgets, maxval=1000000).start()\n",
    "\n",
    "#for loop example\n",
    "for i in range(0,1000000):\n",
    "    #update\n",
    "    timer.update(i)\n",
    "#finish\n",
    "timer.finish()"
   ]
  },
  {
   "cell_type": "code",
   "execution_count": null,
   "metadata": {},
   "outputs": [],
   "source": [
    "#cell to test wrong plot\n",
    "plt.hist(hdf_long['neu20hid8bat128_e100'].values, np.arange(b1, b2, b3))\n",
    "plt.show()"
   ]
  },
  {
   "cell_type": "code",
   "execution_count": null,
   "metadata": {},
   "outputs": [],
   "source": []
  }
 ],
 "metadata": {
  "kernelspec": {
   "display_name": "Python 3",
   "language": "python",
   "name": "python3"
  },
  "language_info": {
   "codemirror_mode": {
    "name": "ipython",
    "version": 3
   },
   "file_extension": ".py",
   "mimetype": "text/x-python",
   "name": "python",
   "nbconvert_exporter": "python",
   "pygments_lexer": "ipython3",
   "version": "3.6.8"
  }
 },
 "nbformat": 4,
 "nbformat_minor": 2
}
